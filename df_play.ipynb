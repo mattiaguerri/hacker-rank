{
 "cells": [
  {
   "cell_type": "code",
   "execution_count": 13,
   "id": "3d6b9790-d1b2-41a9-bb30-2b57e7b7fc32",
   "metadata": {},
   "outputs": [],
   "source": [
    "import numpy as np\n",
    "import pandas as pd"
   ]
  },
  {
   "cell_type": "code",
   "execution_count": 14,
   "id": "109d0614-8a76-49b0-99c5-af2dd5fc45b8",
   "metadata": {},
   "outputs": [
    {
     "data": {
      "text/html": [
       "<div>\n",
       "<style scoped>\n",
       "    .dataframe tbody tr th:only-of-type {\n",
       "        vertical-align: middle;\n",
       "    }\n",
       "\n",
       "    .dataframe tbody tr th {\n",
       "        vertical-align: top;\n",
       "    }\n",
       "\n",
       "    .dataframe thead th {\n",
       "        text-align: right;\n",
       "    }\n",
       "</style>\n",
       "<table border=\"1\" class=\"dataframe\">\n",
       "  <thead>\n",
       "    <tr style=\"text-align: right;\">\n",
       "      <th></th>\n",
       "      <th>PROCESS</th>\n",
       "      <th>timestamp</th>\n",
       "      <th>LOTID</th>\n",
       "      <th>c_angle</th>\n",
       "      <th>e_angle</th>\n",
       "    </tr>\n",
       "  </thead>\n",
       "  <tbody>\n",
       "    <tr>\n",
       "      <th>0</th>\n",
       "      <td>EC03B_SOI</td>\n",
       "      <td>2019-01-22 08:57:28</td>\n",
       "      <td>33239.02</td>\n",
       "      <td>88.153944</td>\n",
       "      <td>88.813623</td>\n",
       "    </tr>\n",
       "    <tr>\n",
       "      <th>1</th>\n",
       "      <td>EC03B_SOI</td>\n",
       "      <td>2019-02-17 20:01:22</td>\n",
       "      <td>33239.03</td>\n",
       "      <td>89.206268</td>\n",
       "      <td>89.123175</td>\n",
       "    </tr>\n",
       "    <tr>\n",
       "      <th>2</th>\n",
       "      <td>EC03B_SOI</td>\n",
       "      <td>2019-02-21 15:17:13</td>\n",
       "      <td>333239.03</td>\n",
       "      <td>88.764731</td>\n",
       "      <td>89.556541</td>\n",
       "    </tr>\n",
       "  </tbody>\n",
       "</table>\n",
       "</div>"
      ],
      "text/plain": [
       "     PROCESS           timestamp      LOTID    c_angle    e_angle\n",
       "0  EC03B_SOI 2019-01-22 08:57:28   33239.02  88.153944  88.813623\n",
       "1  EC03B_SOI 2019-02-17 20:01:22   33239.03  89.206268  89.123175\n",
       "2  EC03B_SOI 2019-02-21 15:17:13  333239.03  88.764731  89.556541"
      ]
     },
     "execution_count": 14,
     "metadata": {},
     "output_type": "execute_result"
    }
   ],
   "source": [
    "df = pd.read_csv(\"./df_play.csv\")\n",
    "df.timestamp = pd.to_datetime(df.timestamp)\n",
    "df.sort_values(by=\"timestamp\", inplace=True)\n",
    "df.reset_index(drop=True, inplace=True)\n",
    "df.head(3)"
   ]
  },
  {
   "cell_type": "code",
   "execution_count": 15,
   "id": "91be1728-7e77-426b-a419-6d3180777175",
   "metadata": {},
   "outputs": [
    {
     "data": {
      "text/html": [
       "<div>\n",
       "<style scoped>\n",
       "    .dataframe tbody tr th:only-of-type {\n",
       "        vertical-align: middle;\n",
       "    }\n",
       "\n",
       "    .dataframe tbody tr th {\n",
       "        vertical-align: top;\n",
       "    }\n",
       "\n",
       "    .dataframe thead th {\n",
       "        text-align: right;\n",
       "    }\n",
       "</style>\n",
       "<table border=\"1\" class=\"dataframe\">\n",
       "  <thead>\n",
       "    <tr style=\"text-align: right;\">\n",
       "      <th></th>\n",
       "      <th>PROCESS</th>\n",
       "      <th>LOTID</th>\n",
       "      <th>c_angle</th>\n",
       "      <th>e_angle</th>\n",
       "    </tr>\n",
       "    <tr>\n",
       "      <th>timestamp</th>\n",
       "      <th></th>\n",
       "      <th></th>\n",
       "      <th></th>\n",
       "      <th></th>\n",
       "    </tr>\n",
       "  </thead>\n",
       "  <tbody>\n",
       "    <tr>\n",
       "      <th>2019-01-22 08:57:28</th>\n",
       "      <td>EC03B_SOI</td>\n",
       "      <td>33239.02</td>\n",
       "      <td>88.153944</td>\n",
       "      <td>88.813623</td>\n",
       "    </tr>\n",
       "    <tr>\n",
       "      <th>2019-02-17 20:01:22</th>\n",
       "      <td>EC03B_SOI</td>\n",
       "      <td>33239.03</td>\n",
       "      <td>89.206268</td>\n",
       "      <td>89.123175</td>\n",
       "    </tr>\n",
       "    <tr>\n",
       "      <th>2019-02-21 15:17:13</th>\n",
       "      <td>EC03B_SOI</td>\n",
       "      <td>333239.03</td>\n",
       "      <td>88.764731</td>\n",
       "      <td>89.556541</td>\n",
       "    </tr>\n",
       "  </tbody>\n",
       "</table>\n",
       "</div>"
      ],
      "text/plain": [
       "                       PROCESS      LOTID    c_angle    e_angle\n",
       "timestamp                                                      \n",
       "2019-01-22 08:57:28  EC03B_SOI   33239.02  88.153944  88.813623\n",
       "2019-02-17 20:01:22  EC03B_SOI   33239.03  89.206268  89.123175\n",
       "2019-02-21 15:17:13  EC03B_SOI  333239.03  88.764731  89.556541"
      ]
     },
     "execution_count": 15,
     "metadata": {},
     "output_type": "execute_result"
    }
   ],
   "source": [
    "df.set_index(\"timestamp\").head(3)"
   ]
  },
  {
   "cell_type": "code",
   "execution_count": 16,
   "id": "901c3ee9-98aa-4d99-a8c4-76b84cdcafa2",
   "metadata": {},
   "outputs": [
    {
     "data": {
      "text/plain": [
       "0.05555555555555555"
      ]
     },
     "execution_count": 16,
     "metadata": {},
     "output_type": "execute_result"
    }
   ],
   "source": [
    "4/36 * 1/2"
   ]
  },
  {
   "cell_type": "code",
   "execution_count": 17,
   "id": "f77784c0-9305-4b1b-a988-dde7f2c704fd",
   "metadata": {},
   "outputs": [
    {
     "data": {
      "text/plain": [
       "18.0"
      ]
     },
     "execution_count": 17,
     "metadata": {},
     "output_type": "execute_result"
    }
   ],
   "source": [
    "72/4"
   ]
  },
  {
   "cell_type": "code",
   "execution_count": 18,
   "id": "428569d3-94ef-4824-86a2-0bedb8e80b4b",
   "metadata": {},
   "outputs": [
    {
     "data": {
      "text/plain": [
       "-0.7568024953079282"
      ]
     },
     "execution_count": 18,
     "metadata": {},
     "output_type": "execute_result"
    }
   ],
   "source": [
    "np.sin(4)"
   ]
  },
  {
   "cell_type": "code",
   "execution_count": 19,
   "id": "55e463eb-a3f8-47d2-b257-c26bd1f208ec",
   "metadata": {},
   "outputs": [
    {
     "data": {
      "text/plain": [
       "3.141592653589793"
      ]
     },
     "execution_count": 19,
     "metadata": {},
     "output_type": "execute_result"
    }
   ],
   "source": [
    "np.pi"
   ]
  },
  {
   "cell_type": "code",
   "execution_count": null,
   "id": "15825e60-5a62-4492-a3f2-a0a95712c1c9",
   "metadata": {},
   "outputs": [],
   "source": [
    "@wraps(f)\n",
    "def func_1(*args):\n",
    "    return f(*args[::-1])\n",
    "return func_1"
   ]
  },
  {
   "cell_type": "code",
   "execution_count": null,
   "id": "3bcf9477-4d8b-46fc-a6a5-33cc916164fc",
   "metadata": {},
   "outputs": [],
   "source": []
  },
  {
   "cell_type": "code",
   "execution_count": null,
   "id": "d076eebc-b314-4ada-8619-e20553709060",
   "metadata": {},
   "outputs": [],
   "source": [
    "SELECT \n",
    "    productLine, \n",
    "    FLOOR(AVG(quantityInStock)) averageStock\n",
    "FROM\n",
    "    products\n",
    "GROUP BY \n",
    "    productLine\n",
    "ORDER BY \n",
    "    averageStock;"
   ]
  }
 ],
 "metadata": {
  "kernelspec": {
   "display_name": ".venv_Conda_X1",
   "language": "python",
   "name": ".venv_conda_x1"
  },
  "language_info": {
   "codemirror_mode": {
    "name": "ipython",
    "version": 3
   },
   "file_extension": ".py",
   "mimetype": "text/x-python",
   "name": "python",
   "nbconvert_exporter": "python",
   "pygments_lexer": "ipython3",
   "version": "3.8.5"
  }
 },
 "nbformat": 4,
 "nbformat_minor": 5
}
