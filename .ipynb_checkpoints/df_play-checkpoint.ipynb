{
 "cells": [
  {
   "cell_type": "code",
   "execution_count": 1,
   "id": "3d6b9790-d1b2-41a9-bb30-2b57e7b7fc32",
   "metadata": {},
   "outputs": [],
   "source": [
    "import numpy as np\n",
    "import pandas as pd"
   ]
  },
  {
   "cell_type": "code",
   "execution_count": 2,
   "id": "109d0614-8a76-49b0-99c5-af2dd5fc45b8",
   "metadata": {},
   "outputs": [
    {
     "data": {
      "text/html": [
       "<div>\n",
       "<style scoped>\n",
       "    .dataframe tbody tr th:only-of-type {\n",
       "        vertical-align: middle;\n",
       "    }\n",
       "\n",
       "    .dataframe tbody tr th {\n",
       "        vertical-align: top;\n",
       "    }\n",
       "\n",
       "    .dataframe thead th {\n",
       "        text-align: right;\n",
       "    }\n",
       "</style>\n",
       "<table border=\"1\" class=\"dataframe\">\n",
       "  <thead>\n",
       "    <tr style=\"text-align: right;\">\n",
       "      <th></th>\n",
       "      <th>PROCESS</th>\n",
       "      <th>timestamp</th>\n",
       "      <th>LOTID</th>\n",
       "      <th>c_angle</th>\n",
       "      <th>e_angle</th>\n",
       "    </tr>\n",
       "  </thead>\n",
       "  <tbody>\n",
       "    <tr>\n",
       "      <th>0</th>\n",
       "      <td>EC03B_SOI</td>\n",
       "      <td>2019-01-22 08:57:28</td>\n",
       "      <td>33239.02</td>\n",
       "      <td>88.153944</td>\n",
       "      <td>88.813623</td>\n",
       "    </tr>\n",
       "    <tr>\n",
       "      <th>1</th>\n",
       "      <td>EC03B_SOI</td>\n",
       "      <td>2019-02-17 20:01:22</td>\n",
       "      <td>33239.03</td>\n",
       "      <td>89.206268</td>\n",
       "      <td>89.123175</td>\n",
       "    </tr>\n",
       "    <tr>\n",
       "      <th>2</th>\n",
       "      <td>EC03B_SOI</td>\n",
       "      <td>2019-02-21 15:17:13</td>\n",
       "      <td>333239.03</td>\n",
       "      <td>88.764731</td>\n",
       "      <td>89.556541</td>\n",
       "    </tr>\n",
       "  </tbody>\n",
       "</table>\n",
       "</div>"
      ],
      "text/plain": [
       "     PROCESS           timestamp      LOTID    c_angle    e_angle\n",
       "0  EC03B_SOI 2019-01-22 08:57:28   33239.02  88.153944  88.813623\n",
       "1  EC03B_SOI 2019-02-17 20:01:22   33239.03  89.206268  89.123175\n",
       "2  EC03B_SOI 2019-02-21 15:17:13  333239.03  88.764731  89.556541"
      ]
     },
     "execution_count": 2,
     "metadata": {},
     "output_type": "execute_result"
    }
   ],
   "source": [
    "df = pd.read_csv(\"./df_play.csv\")\n",
    "df.timestamp = pd.to_datetime(df.timestamp)\n",
    "df.sort_values(by=\"timestamp\", inplace=True)\n",
    "df.reset_index(drop=True, inplace=True)\n",
    "df.head(3)"
   ]
  },
  {
   "cell_type": "code",
   "execution_count": 3,
   "id": "91be1728-7e77-426b-a419-6d3180777175",
   "metadata": {},
   "outputs": [
    {
     "data": {
      "text/html": [
       "<div>\n",
       "<style scoped>\n",
       "    .dataframe tbody tr th:only-of-type {\n",
       "        vertical-align: middle;\n",
       "    }\n",
       "\n",
       "    .dataframe tbody tr th {\n",
       "        vertical-align: top;\n",
       "    }\n",
       "\n",
       "    .dataframe thead th {\n",
       "        text-align: right;\n",
       "    }\n",
       "</style>\n",
       "<table border=\"1\" class=\"dataframe\">\n",
       "  <thead>\n",
       "    <tr style=\"text-align: right;\">\n",
       "      <th></th>\n",
       "      <th>PROCESS</th>\n",
       "      <th>LOTID</th>\n",
       "      <th>c_angle</th>\n",
       "      <th>e_angle</th>\n",
       "    </tr>\n",
       "    <tr>\n",
       "      <th>timestamp</th>\n",
       "      <th></th>\n",
       "      <th></th>\n",
       "      <th></th>\n",
       "      <th></th>\n",
       "    </tr>\n",
       "  </thead>\n",
       "  <tbody>\n",
       "    <tr>\n",
       "      <th>2019-01-22 08:57:28</th>\n",
       "      <td>EC03B_SOI</td>\n",
       "      <td>33239.02</td>\n",
       "      <td>88.153944</td>\n",
       "      <td>88.813623</td>\n",
       "    </tr>\n",
       "    <tr>\n",
       "      <th>2019-02-17 20:01:22</th>\n",
       "      <td>EC03B_SOI</td>\n",
       "      <td>33239.03</td>\n",
       "      <td>89.206268</td>\n",
       "      <td>89.123175</td>\n",
       "    </tr>\n",
       "    <tr>\n",
       "      <th>2019-02-21 15:17:13</th>\n",
       "      <td>EC03B_SOI</td>\n",
       "      <td>333239.03</td>\n",
       "      <td>88.764731</td>\n",
       "      <td>89.556541</td>\n",
       "    </tr>\n",
       "  </tbody>\n",
       "</table>\n",
       "</div>"
      ],
      "text/plain": [
       "                       PROCESS      LOTID    c_angle    e_angle\n",
       "timestamp                                                      \n",
       "2019-01-22 08:57:28  EC03B_SOI   33239.02  88.153944  88.813623\n",
       "2019-02-17 20:01:22  EC03B_SOI   33239.03  89.206268  89.123175\n",
       "2019-02-21 15:17:13  EC03B_SOI  333239.03  88.764731  89.556541"
      ]
     },
     "execution_count": 3,
     "metadata": {},
     "output_type": "execute_result"
    }
   ],
   "source": [
    "df.set_index(\"timestamp\").head(3)"
   ]
  },
  {
   "cell_type": "code",
   "execution_count": 4,
   "id": "199df490-75ad-4e5c-8970-4ece2b3a5c64",
   "metadata": {},
   "outputs": [],
   "source": [
    "# for i in range(10, 20):\n",
    "#     print(i-10)"
   ]
  },
  {
   "cell_type": "code",
   "execution_count": 5,
   "id": "2d8c6457-a961-46fb-a0bf-5497b41d1f31",
   "metadata": {},
   "outputs": [
    {
     "data": {
      "text/plain": [
       "array([ 1,  2,  3, 24])"
      ]
     },
     "execution_count": 5,
     "metadata": {},
     "output_type": "execute_result"
    }
   ],
   "source": [
    "a = np.array([1, 2, 3])\n",
    "a = np.append(a, 24)\n",
    "a"
   ]
  },
  {
   "cell_type": "code",
   "execution_count": 6,
   "id": "1e90270e-9bc4-48ef-a132-931f3e1d6d69",
   "metadata": {},
   "outputs": [
    {
     "data": {
      "text/plain": [
       "['a', 'c']"
      ]
     },
     "execution_count": 6,
     "metadata": {},
     "output_type": "execute_result"
    }
   ],
   "source": [
    "s = \"abc\"\n",
    "s = list(s)\n",
    "del s[1]\n",
    "s"
   ]
  },
  {
   "cell_type": "code",
   "execution_count": 7,
   "id": "1f5f9690-1f84-4d24-96b0-b9adc2a54a38",
   "metadata": {},
   "outputs": [
    {
     "data": {
      "text/plain": [
       "3"
      ]
     },
     "execution_count": 7,
     "metadata": {},
     "output_type": "execute_result"
    }
   ],
   "source": [
    "s = {1, 2, 3}\n",
    "len(s)"
   ]
  },
  {
   "cell_type": "code",
   "execution_count": 8,
   "id": "3cedd770-db1d-43b7-9216-948f8afdc0bb",
   "metadata": {},
   "outputs": [],
   "source": [
    "# WEWOUCUIDGCGTRMEZEPXZFEJWISRSBBSYXAYDFEJJDLEBVHHKS\n",
    "# FDAGCXGKCTKWNECHMRXZWMLRYUCOCZHJRRJBOAJOQJZZVUYXIC\n",
    "# 15"
   ]
  },
  {
   "cell_type": "code",
   "execution_count": 9,
   "id": "b7ba4646-0042-4abb-9c41-02fa07326217",
   "metadata": {},
   "outputs": [
    {
     "name": "stdout",
     "output_type": "stream",
     "text": [
      "15\n"
     ]
    }
   ],
   "source": [
    "def lcs(a, b):\n",
    "    lengths = [[0 for j in range(len(b)+1)] for i in range(len(a)+1)]\n",
    "    # row 0 and column 0 are initialized to 0 already\n",
    "    for i, x in enumerate(a):\n",
    "        for j, y in enumerate(b):\n",
    "            if x == y:\n",
    "                lengths[i+1][j+1] = lengths[i][j] + 1\n",
    "            else:\n",
    "                lengths[i+1][j+1] = \\\n",
    "                    max(lengths[i+1][j], lengths[i][j+1])\n",
    "    # read the substring out from the matrix\n",
    "    result = \"\"\n",
    "    x, y = len(a), len(b)\n",
    "    while x != 0 and y != 0:\n",
    "        if lengths[x][y] == lengths[x-1][y]:\n",
    "            x -= 1\n",
    "        elif lengths[x][y] == lengths[x][y-1]:\n",
    "            y -= 1\n",
    "        else:\n",
    "            assert a[x-1] == b[y-1]\n",
    "            result = a[x-1] + result\n",
    "            x -= 1\n",
    "            y -= 1\n",
    "    return result\n",
    "\n",
    "\n",
    "str_a = \"WEWOUCUIDGCGTRMEZEPXZFEJWISRSBBSYXAYDFEJJDLEBVHHKS\"\n",
    "str_b = \"FDAGCXGKCTKWNECHMRXZWMLRYUCOCZHJRRJBOAJOQJZZVUYXIC\"\n",
    "a = [l for l in str_a]\n",
    "b = [l for l in str_b]\n",
    "\n",
    "a = [l for l in a if l in b]\n",
    "b = [l for l in b if l in a]\n",
    "\n",
    "print(len(lcs(a, b)))"
   ]
  },
  {
   "cell_type": "code",
   "execution_count": 16,
   "id": "2fa30970-120f-4968-a59c-ebbd21f03704",
   "metadata": {},
   "outputs": [],
   "source": [
    "# str_a = \"WEWOUCUIDGCGTRMEZEPXZFEJWISRSBBSYXAYDFEJJDLEBVHHKS\"\n",
    "# str_b = \"FDAGCXGKCTKWNECHMRXZWMLRYUCOCZHJRRJBOAJOQJZZVUYXIC\"\n",
    "\n",
    "str_a = \"SHINCHAN\"\n",
    "str_b = \"NOHARAAA\"\n",
    "\n",
    "a = [l for l in str_a]\n",
    "b = [l for l in str_b]\n",
    "\n",
    "a = [l for l in a if l in b]\n",
    "b = [l for l in b if l in a]\n",
    "\n",
    "lengths = [[0 for j in range(len(b)+1)] for i in range(len(a)+1)]\n",
    "# row 0 and column 0 are initialized to 0 already\n",
    "for i, x in enumerate(a):\n",
    "    for j, y in enumerate(b):\n",
    "        if x == y:\n",
    "            lengths[i+1][j+1] = lengths[i][j] + 1\n",
    "        else:\n",
    "            lengths[i+1][j+1] = \\\n",
    "                max(lengths[i+1][j], lengths[i][j+1])\n",
    "# # read the substring out from the matrix\n",
    "# result = \"\"\n",
    "# x, y = len(a), len(b)\n",
    "# while x != 0 and y != 0:\n",
    "#     if lengths[x][y] == lengths[x-1][y]:\n",
    "#         x -= 1\n",
    "#     elif lengths[x][y] == lengths[x][y-1]:\n",
    "#         y -= 1\n",
    "#     else:\n",
    "#         assert a[x-1] == b[y-1]\n",
    "#         result = a[x-1] + result\n",
    "#         x -= 1\n",
    "#         y -= 1"
   ]
  },
  {
   "cell_type": "code",
   "execution_count": 17,
   "id": "805b121a-dca4-4b2f-9b2b-ef6b5d5f8e85",
   "metadata": {},
   "outputs": [
    {
     "data": {
      "text/plain": [
       "[[0, 0, 0, 0, 0, 0, 0],\n",
       " [0, 0, 1, 1, 1, 1, 1],\n",
       " [0, 1, 1, 1, 1, 1, 1],\n",
       " [0, 1, 2, 2, 2, 2, 2],\n",
       " [0, 1, 2, 3, 3, 3, 3],\n",
       " [0, 1, 2, 3, 3, 3, 3]]"
      ]
     },
     "execution_count": 17,
     "metadata": {},
     "output_type": "execute_result"
    }
   ],
   "source": [
    "lengths"
   ]
  },
  {
   "cell_type": "code",
   "execution_count": null,
   "id": "0c6032a7-98e9-4f87-a6df-fa52255ec6cf",
   "metadata": {},
   "outputs": [],
   "source": []
  }
 ],
 "metadata": {
  "kernelspec": {
   "display_name": ".venv_Conda_X1",
   "language": "python",
   "name": ".venv_conda_x1"
  },
  "language_info": {
   "codemirror_mode": {
    "name": "ipython",
    "version": 3
   },
   "file_extension": ".py",
   "mimetype": "text/x-python",
   "name": "python",
   "nbconvert_exporter": "python",
   "pygments_lexer": "ipython3",
   "version": "3.8.5"
  }
 },
 "nbformat": 4,
 "nbformat_minor": 5
}
